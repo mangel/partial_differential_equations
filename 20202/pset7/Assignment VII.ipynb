{
 "cells": [
  {
   "cell_type": "markdown",
   "metadata": {},
   "source": [
    "# Assignment VII\n",
    "## Leidy Sánchez, Miguel Gómez"
   ]
  },
  {
   "cell_type": "markdown",
   "metadata": {},
   "source": [
    "$1.$ Proof for the Fourier transfromation that:\n",
    "$$\\mathcal{F}\\left\\{\\frac{d^{n} f(x)}{d x^{n}}\\right\\}=(-i k)^{n} F(k)$$"
   ]
  },
  {
   "cell_type": "markdown",
   "metadata": {},
   "source": [
    "Procederemos por inducción, para n=1 se tiene que\n",
    "$$\n",
    "    \\mathcal{F}\\left\\{\\frac{d f(x)}{d x}\\right\\}=\\int_{-\\infty}^{\\infty} e^{-ikx}f'(x) dx.\n",
    "$$\n",
    "\n",
    "Por integración por partes $u = e^{-1kx}, du= (-ik)e^{-ikx}dx, v = f(x), dv = f'(x)$, luego\n",
    "\n",
    "$$\n",
    "\\begin{align*}\n",
    "\\mathcal{F}\\left\\{\\frac{d f(x)}{d x}\\right\\} &= f(x) e^{-ikx} \\bigg{|}_{-\\infty}^{\\infty} + ik \\int_{-\\infty}^{\\infty} f(x) e^{-ikx} dx,\\\\\n",
    "&= 0 + ik \\int_{-\\infty}^{\\infty} f(x) e^{-ikx} dx,\\\\\n",
    "&= ik \\mathcal{F}\\{f(x)\\} = ik F(k)\n",
    "\\end{align*}\n",
    "$$\n",
    "Se valida para $n=1$.\n",
    "\n",
    "Ahora para $n=m$\n",
    "\n",
    "$$\n",
    "\\mathcal{F} \\left\\{ \\frac{d^m f(x)}{d x^m} \\right\\} = ik \\mathcal{F}\\{u(x)\\}, u(x) = f^{(m)}(x)\n",
    "$$\n",
    "\n",
    "de ahí se sigue que\n",
    "\n",
    "$$\n",
    "\\mathcal{F}{f^(m+1)(x)} = 2k \\mathcal{F}\\{f^{(m)}(x)\\} = 2k(ik)^m F(k)\\\\\n",
    "= (ik)^{m+1} F(k)\n",
    "$$\n",
    "\n",
    "Validando el resultado para $n=m+1$, por lo tanto\n",
    "\n",
    "$$\\mathcal{F}\\left\\{\\frac{d^nf(x)}{dx^n} \\right\\} = (ik)^n F(k).$$"
   ]
  },
  {
   "cell_type": "markdown",
   "metadata": {},
   "source": [
    "$2.$ Via the Fourier integral theorem show that\n",
    "$$\n",
    "\\frac{2}{\\pi} \\int_{0}^{\\infty} \\frac{\\cos \\frac{\\pi \\omega}{2}}{1-\\omega^{2}} \\cos \\omega x d \\omega=\\left\\{\\begin{array}{ll}\n",
    "\\cos x & \\text { if }|x|<\\pi / 2 \\\\\n",
    "0 & \\text { if }|x|>\\pi / 2\n",
    "\\end{array}\\right.\n",
    "$$\n",
    "\n",
    "Plot the function and the coeficientes in the theorem."
   ]
  },
  {
   "cell_type": "markdown",
   "metadata": {},
   "source": [
    "![title](1.jpeg)\n",
    "![title](2.jpeg)"
   ]
  },
  {
   "cell_type": "markdown",
   "metadata": {},
   "source": [
    "$3.$ Reproduce in full detail the deduction of the Fourier transform in Ivrii notes chapter 5."
   ]
  },
  {
   "cell_type": "markdown",
   "metadata": {},
   "source": [
    "### Heuristics\n",
    "In section 4.5. we wrote Fourier series in the complex form\n",
    "$$f(x) = \\sum_{n=-\\infty}^{\\infty} c_ne^{\\frac{i\\pi n x}{l}}, \\hspace{1in}(1)$$\n",
    "with\n",
    "$$\n",
    "c_n = \\frac{1}{2l} \\int_{l}^{l} f(x) e^{-\\frac{i\\pi n x}{l}} dx \\hspace{20pt} n= \\dots, -2, -1, 0, 1, 2, \\dots \\hspace{1in}(2)\n",
    "$$\n",
    "and\n",
    "$$2l \\sum_{n=-\\infty}^{\\infty} |c_n|^2 = \\int_{-l}^{l} |f(x)|^2 dx \\hspace{1in}(3).$$"
   ]
  },
  {
   "cell_type": "markdown",
   "metadata": {},
   "source": [
    "Como el autor menciona, la encuación (1) es la forma compleja de una serie de Fourier, la ecuación (2) es el coeficciente de la serie en forma compleja y la ecuación (3) es la identidad de Parseval."
   ]
  },
  {
   "cell_type": "markdown",
   "metadata": {},
   "source": [
    "From this form we _formally_ without any justification deduct Fourier Integral. First we introduce\n",
    "\n",
    "$$k_n := \\frac{\\pi n}{l} \\hspace{10pt} \\text{ and } \\hspace{10pt} \\Delta k_n = k_n - k_{n-1} = \\frac{\\pi}{l} \\hspace{1in}(4)$$\n",
    "\n",
    "and rewrite (1) as\n",
    "\n",
    "$$\n",
    "    f(x) =  \\sum_{n=-\\infty}^{\\infty} C(k_n) e^{i k_n x} \\Delta k_n \\hspace{1in}(5)\n",
    "$$\n",
    "\n",
    "with\n",
    "\n",
    "$$\n",
    "C(k) = \\frac{1}{2\\pi}\\int_{-l}^{l} f(x) e^{-ikx}dx\\hspace{1in}(6)\n",
    "$$\n",
    "\n",
    "where we used $C(k_n) := c_n/(\\Delta k_n)$; (3) should be rewritten as\n",
    "\n",
    "$$\n",
    "\\int_{-l}^{l}|f(x)|^2 dx = 2\\pi \\sum_{n=-\\infty}^{\\infty} |C(k_n)|^2 \\Delta k_n.\\hspace{1in}(7)\n",
    "$$"
   ]
  },
  {
   "cell_type": "markdown",
   "metadata": {},
   "source": [
    "Al final quermos obtener la forma integral de una serie de Fourier y por ello es necesario introducir diferencias infinitesimales, el autor aprovecha la forma de la serie y propone una difrencia en los coeficientes de la serie, paso a paso, si $k_n = \\frac{\\pi n}{l}$, entonces\n",
    "\n",
    "$$\n",
    "\\Delta k_n = k_n - k_{n-1} = \\frac{\\pi n}{l} - \\frac{\\pi (n-1)}{l} = \\frac{\\pi n - \\pi n + \\pi}{l} = \\frac{\\pi}{l},\n",
    "$$\n",
    "\n",
    "Realizando únicamente la sustitución propuesta en la serie, obtenemos\n",
    "\n",
    "$$\n",
    "\\sum_{n=-\\infty}^{\\infty} c_n e^{i k_n x},\n",
    "$$\n",
    "\n",
    "ahora definimos la contante en términos de la diferencia $C(k_n) = \\frac{c_n}{\\Delta k_n}$, para realizar esta sustitución en la serie es necesario multiplicar por este $\\Delta k_n$, paso a paso de la siguiente manera, primero en el coeficiente\n",
    "\n",
    "$$\n",
    "\\begin{align*}\n",
    "C(k) &= \\frac{c_n}{\\Delta k_n},\\\\\n",
    "&=  \\frac{1}{\\frac{\\pi}{l}} \\left(\\frac{1}{2l} \\int_{l}^{l} f(x) e^{-\\frac{i\\pi n x}{l}} dx\\right),\\\\\n",
    "&= \\frac{l}{2\\pi l} \\int_{l}^{l} f(x) e^{-\\frac{i\\pi n x}{l}} dx,\\\\\n",
    "&= \\frac{1}{2\\pi} \\int_{l}^{l} f(x) e^{-i k_n x} dx,\\\\\n",
    "\\end{align*}\n",
    "$$\n",
    "\n",
    "Pero al introducir $C(k) = \\frac{c_n}{\\Delta k_n}$, para mantener la igualdad si dividimos entre $\\Delta k_n$ en las series debemos multiplicar por el mismo termino,\n",
    "\n",
    "$$\n",
    "\\sum_{n=-\\infty}^{\\infty} c_ne^{\\frac{i\\pi n x}{l}} = \\sum_{n=-\\infty}^{\\infty} \\left(\\frac{c_n}{\\Delta k_n}\\right) e^{ik_n} \\Delta k_n = \\sum_{n=-\\infty}^{\\infty} C(k_n) e^{ik_n} \\Delta k_n,\n",
    "$$\n",
    "\n",
    "La transformación de la identidad de Parseval utiliza la sustitución del anterior resultado."
   ]
  },
  {
   "cell_type": "markdown",
   "metadata": {},
   "source": [
    "Now we _formally_ set $l \\rightarrow +\\infty$; then integrals from $-l$ to $l$ in the right-hand expression of (6) and the left-hand expression of (7) become integrals from $-\\infty$ to $+\\infty$.\n",
    "\n",
    "Meanwhile, $\\Delta k_n \\rightarrow +0$ and _Riemannian sums_ in the right-hand expressions of (5) and (7) become integrals:\n",
    "\n",
    "$$\n",
    "f(x) = \\int_{-\\infty}^{\\infty} C(k)e^{ikx}dk\\hspace{1in}(8)\n",
    "$$\n",
    "\n",
    "with \n",
    "\n",
    "$$\n",
    "C(k) = \\frac{1}{2\\pi}\\int_{-\\infty}^{\\infty} f(x) e^{-ikx}dx;\\hspace{1in}(9)\n",
    "$$\n",
    "\n",
    "(3) becomes\n",
    "\n",
    "$$\n",
    "\\int_{-\\infty}^{\\infty} |f(x)|^2 dx = 2\\pi \\int_{-\\infty}^{\\infty} |C(k)|^2 dk.\\hspace{1in}(10)\n",
    "$$"
   ]
  },
  {
   "cell_type": "markdown",
   "metadata": {},
   "source": [
    "Tal y como indica el autor, si extendemos estas series de manera infinitesimal entre $-\\infty$ to $+\\infty$, $\\Delta k_n$ se convierte infinitesimalmente pequeño, hasta $+0$ y por ende lo que obtenemos es la definición de la integral y se obtienen las ecuaciones (8), (9) y (10)."
   ]
  }
 ],
 "metadata": {
  "kernelspec": {
   "display_name": "Python 3",
   "language": "python",
   "name": "python3"
  },
  "language_info": {
   "codemirror_mode": {
    "name": "ipython",
    "version": 3
   },
   "file_extension": ".py",
   "mimetype": "text/x-python",
   "name": "python",
   "nbconvert_exporter": "python",
   "pygments_lexer": "ipython3",
   "version": "3.8.3"
  }
 },
 "nbformat": 4,
 "nbformat_minor": 4
}
