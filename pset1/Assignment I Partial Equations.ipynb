{
 "cells": [
  {
   "cell_type": "markdown",
   "metadata": {},
   "source": [
    "# Assignment I"
   ]
  },
  {
   "cell_type": "markdown",
   "metadata": {},
   "source": [
    "$1.$ Reproduce in full detail a proof of the Taylor theorem"
   ]
  },
  {
   "cell_type": "markdown",
   "metadata": {},
   "source": [
    "$2.$ Make a mathematical description of how works the technique of  finite difference numerical aproximation.(For this I recomend the book APPLIED PARTIAL DIFFERENTIAL EQUATIONS\n",
    "with Fourier Series and Boundary Value Problems, Fifth Edition by Richard Haberman) and http://www.benk.ca/node/8."
   ]
  },
  {
   "cell_type": "markdown",
   "metadata": {},
   "source": [
    "$3.$ Develop a code in python to solve the harmonic oscillator equation by finite difference."
   ]
  },
  {
   "cell_type": "markdown",
   "metadata": {},
   "source": [
    "$4.$ Investigate how represent a two vector field in python, and give three examples."
   ]
  },
  {
   "cell_type": "markdown",
   "metadata": {},
   "source": [
    "$5.$ Calculate $\\nabla \\cdot F$ and $\\nabla \\times F$ for $F(x,y,z)=(2x, 3y, 4z)$,  $F(x,y,z)=(x^2, y^2, z^2)$ and F(x,y,z)=(x+y, y+z, z+x)\n",
    "\n"
   ]
  },
  {
   "cell_type": "code",
   "execution_count": null,
   "metadata": {},
   "outputs": [],
   "source": []
  }
 ],
 "metadata": {
  "kernelspec": {
   "display_name": "Python 3",
   "language": "python",
   "name": "python3"
  },
  "language_info": {
   "codemirror_mode": {
    "name": "ipython",
    "version": 3
   },
   "file_extension": ".py",
   "mimetype": "text/x-python",
   "name": "python",
   "nbconvert_exporter": "python",
   "pygments_lexer": "ipython3",
   "version": "3.6.4"
  }
 },
 "nbformat": 4,
 "nbformat_minor": 2
}
